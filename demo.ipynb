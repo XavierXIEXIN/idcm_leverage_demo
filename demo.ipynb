{
 "cells": [
  {
   "cell_type": "markdown",
   "metadata": {},
   "source": [
    "# 杠杆交易演示"
   ]
  },
  {
   "cell_type": "markdown",
   "metadata": {},
   "source": [
    ">“杠杆资产”，杠杆倍数、爆仓说明、做空操作、利息计算及还币规则等"
   ]
  },
  {
   "cell_type": "code",
   "execution_count": 1,
   "metadata": {},
   "outputs": [],
   "source": [
    "from Leverage import *"
   ]
  },
  {
   "cell_type": "markdown",
   "metadata": {},
   "source": [
    "以 BTC/USDT 交易对为例"
   ]
  },
  {
   "cell_type": "code",
   "execution_count": 2,
   "metadata": {},
   "outputs": [],
   "source": [
    "leverage_demo = Leverage('btc', 'usdt')"
   ]
  },
  {
   "cell_type": "markdown",
   "metadata": {},
   "source": [
    "## 资产"
   ]
  },
  {
   "cell_type": "markdown",
   "metadata": {},
   "source": [
    "总资产 **total_asset** ：杠杆账户内资产的总和，包括可用资产+冻结资产"
   ]
  },
  {
   "cell_type": "code",
   "execution_count": 19,
   "metadata": {},
   "outputs": [
    {
     "name": "stdout",
     "output_type": "stream",
     "text": [
      "0.5 BTC , 1000 USDT\n"
     ]
    }
   ],
   "source": [
    "print(leverage_demo.total_asset_1, 'BTC', ',', leverage_demo.total_asset_2, 'USDT')"
   ]
  },
  {
   "cell_type": "markdown",
   "metadata": {},
   "source": [
    "转入资产 **deposit** ：从其他账户通过资金划转转入杠杆账户里的币"
   ]
  },
  {
   "cell_type": "markdown",
   "metadata": {},
   "source": [
    "> 每个交易队构建一个单独的杠杆账户，只有该交易对中两种币可以转入，举例转入0.5个 BTC 与 1000 USDT"
   ]
  },
  {
   "cell_type": "code",
   "execution_count": 4,
   "metadata": {},
   "outputs": [],
   "source": [
    "leverage_demo.deposit(0.5, 1000)"
   ]
  },
  {
   "cell_type": "markdown",
   "metadata": {},
   "source": [
    "此时总资产即为转入资产"
   ]
  },
  {
   "cell_type": "code",
   "execution_count": 20,
   "metadata": {},
   "outputs": [
    {
     "name": "stdout",
     "output_type": "stream",
     "text": [
      "0.5 BTC , 1000 USDT\n"
     ]
    }
   ],
   "source": [
    "print(leverage_demo.total_asset_1, 'BTC', ',', leverage_demo.total_asset_2, 'USDT')"
   ]
  },
  {
   "cell_type": "markdown",
   "metadata": {},
   "source": [
    "此时账户与现货交易账户完全相同，除了未成交挂单里冻结的资产外均可用于交易与转入转出，可转出资产为 **withdraw_available**"
   ]
  },
  {
   "cell_type": "code",
   "execution_count": 21,
   "metadata": {},
   "outputs": [
    {
     "name": "stdout",
     "output_type": "stream",
     "text": [
      "0.5 BTC , 1000 USDT\n"
     ]
    }
   ],
   "source": [
    "print(leverage_demo.withdraw_available_1, 'BTC', ',', leverage_demo.withdraw_available_2, 'USDT')"
   ]
  },
  {
   "cell_type": "markdown",
   "metadata": {},
   "source": [
    "现在开始杠杆交易，通过类函数 **get_price()** 可得到此时 BTC/USDT 价格 **price** 为:"
   ]
  },
  {
   "cell_type": "code",
   "execution_count": 7,
   "metadata": {},
   "outputs": [
    {
     "name": "stdout",
     "output_type": "stream",
     "text": [
      "7981.49\n"
     ]
    }
   ],
   "source": [
    "leverage_demo.get_price()\n",
    "print(leverage_demo.price)"
   ]
  },
  {
   "cell_type": "markdown",
   "metadata": {},
   "source": [
    "> get_price() 默认通过币安的 lastPrice 取得价格，实际应用时应通过交易所 order book 取得，且始终取对价，即卖出取买一价，买入取卖一价"
   ]
  },
  {
   "cell_type": "markdown",
   "metadata": {},
   "source": [
    "客户存入的资金作为保证金，可从平台借贷资产获得更多可交易资产，加倍交易，可获得的最高倍数为杠杆倍数 **max_lever**"
   ]
  },
  {
   "cell_type": "code",
   "execution_count": 24,
   "metadata": {},
   "outputs": [
    {
     "name": "stdout",
     "output_type": "stream",
     "text": [
      "3 倍\n"
     ]
    }
   ],
   "source": [
    "print(leverage_demo.max_lever, '倍')"
   ]
  },
  {
   "cell_type": "markdown",
   "metadata": {},
   "source": [
    "亦即存入一块钱作为保证金可以借到两块钱，一块钱可以当成三块钱用\n",
    "客户存入的两种资产均可作为保证金，其价值由当前价格互相计算，如上存入 0.5 BTC 与 1000 USDT 的情况，按照当前价格，总资产则相当于："
   ]
  },
  {
   "cell_type": "markdown",
   "metadata": {},
   "source": [
    "以 BTC 计价："
   ]
  },
  {
   "cell_type": "code",
   "execution_count": 11,
   "metadata": {},
   "outputs": [
    {
     "data": {
      "text/plain": [
       "0.6252898894817884"
      ]
     },
     "execution_count": 11,
     "metadata": {},
     "output_type": "execute_result"
    }
   ],
   "source": [
    "leverage_demo.total_asset_1 + leverage_demo.total_asset_2 / leverage_demo.price"
   ]
  },
  {
   "cell_type": "markdown",
   "metadata": {},
   "source": [
    "或以 USDT 计价："
   ]
  },
  {
   "cell_type": "code",
   "execution_count": 12,
   "metadata": {},
   "outputs": [
    {
     "data": {
      "text/plain": [
       "4990.745"
      ]
     },
     "execution_count": 12,
     "metadata": {},
     "output_type": "execute_result"
    }
   ],
   "source": [
    "leverage_demo.total_asset_1 * leverage_demo.price + leverage_demo.total_asset_2"
   ]
  },
  {
   "cell_type": "markdown",
   "metadata": {},
   "source": [
    "据此可以计算 **calculate_cap** 可借的资产量 **borrow_available** ："
   ]
  },
  {
   "cell_type": "code",
   "execution_count": 26,
   "metadata": {},
   "outputs": [
    {
     "name": "stdout",
     "output_type": "stream",
     "text": [
      "1.2507693918403402 BTC 或者 9975.455 USDT\n"
     ]
    }
   ],
   "source": [
    "leverage_demo.calculte_cap()\n",
    "print(leverage_demo.borrow_available_1, 'BTC', '或者', leverage_demo.borrow_available_2, 'USDT')"
   ]
  },
  {
   "cell_type": "markdown",
   "metadata": {},
   "source": [
    "如果此时看空 BTC，即认为 BTC/USDT 价会走低，则应借 BTC 来卖出获得 USDT，等待价格走低再以 USDT 买回 BTC 归还，赚取差价。"
   ]
  }
 ],
 "metadata": {
  "kernelspec": {
   "display_name": "Python 3",
   "language": "python",
   "name": "python3"
  },
  "language_info": {
   "codemirror_mode": {
    "name": "ipython",
    "version": 3
   },
   "file_extension": ".py",
   "mimetype": "text/x-python",
   "name": "python",
   "nbconvert_exporter": "python",
   "pygments_lexer": "ipython3",
   "version": "3.6.4"
  }
 },
 "nbformat": 4,
 "nbformat_minor": 2
}
