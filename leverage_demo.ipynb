{
 "cells": [
  {
   "cell_type": "markdown",
   "metadata": {},
   "source": [
    "# 杠杆交易演示"
   ]
  },
  {
   "cell_type": "markdown",
   "metadata": {},
   "source": [
    ">“杠杆资产”，杠杆倍数、爆仓说明、做空操作、利息计算及还币规则等"
   ]
  },
  {
   "cell_type": "code",
   "execution_count": 1,
   "metadata": {},
   "outputs": [],
   "source": [
    "from Leverage import *"
   ]
  },
  {
   "cell_type": "markdown",
   "metadata": {},
   "source": [
    "以 BTC/USDT 交易对为例"
   ]
  },
  {
   "cell_type": "code",
   "execution_count": 2,
   "metadata": {},
   "outputs": [],
   "source": [
    "leverage_demo = Leverage('btc', 'usdt')"
   ]
  },
  {
   "cell_type": "markdown",
   "metadata": {},
   "source": [
    "总资产 **total_asset** ：杠杆账户内资产的总和，包括可用资产+冻结资产，冻结资产一般指未成交单中的资产"
   ]
  },
  {
   "cell_type": "code",
   "execution_count": 3,
   "metadata": {},
   "outputs": [
    {
     "name": "stdout",
     "output_type": "stream",
     "text": [
      "0 BTC , 0 USDT\n"
     ]
    }
   ],
   "source": [
    "print(leverage_demo.total_asset_1, 'BTC', ',', leverage_demo.total_asset_2, 'USDT')"
   ]
  },
  {
   "cell_type": "markdown",
   "metadata": {},
   "source": [
    "转入资产 **deposit** ：从其他账户通过资金划转转入杠杆账户里的币"
   ]
  },
  {
   "cell_type": "markdown",
   "metadata": {},
   "source": [
    "> 每个交易队构建一个单独的杠杆账户，只有该交易对中两种币可以转入，举例转入0.5个 BTC 与 1000 USDT"
   ]
  },
  {
   "cell_type": "code",
   "execution_count": 4,
   "metadata": {},
   "outputs": [],
   "source": [
    "leverage_demo.deposit(0.5, 1000)"
   ]
  },
  {
   "cell_type": "markdown",
   "metadata": {},
   "source": [
    "此时总资产即为转入资产"
   ]
  },
  {
   "cell_type": "code",
   "execution_count": 5,
   "metadata": {},
   "outputs": [
    {
     "name": "stdout",
     "output_type": "stream",
     "text": [
      "0.5 BTC , 1000 USDT\n"
     ]
    }
   ],
   "source": [
    "print(leverage_demo.total_asset_1, 'BTC', ',', leverage_demo.total_asset_2, 'USDT')"
   ]
  },
  {
   "cell_type": "markdown",
   "metadata": {},
   "source": [
    "此时账户与现货交易账户完全相同，除了未成交挂单里冻结的资产外均可用于交易与转入转出，可转出资产为 **withdraw_available**"
   ]
  },
  {
   "cell_type": "code",
   "execution_count": 6,
   "metadata": {},
   "outputs": [
    {
     "name": "stdout",
     "output_type": "stream",
     "text": [
      "0.5 BTC , 1000 USDT\n"
     ]
    }
   ],
   "source": [
    "print(leverage_demo.withdraw_available_1, 'BTC', ',', leverage_demo.withdraw_available_2, 'USDT')"
   ]
  },
  {
   "cell_type": "markdown",
   "metadata": {},
   "source": [
    "现在开始杠杆交易，通过类函数 **get_price()** 可得到此时 BTC/USDT 价格 **price** 为:"
   ]
  },
  {
   "cell_type": "code",
   "execution_count": 7,
   "metadata": {},
   "outputs": [
    {
     "name": "stdout",
     "output_type": "stream",
     "text": [
      "8127.549999999999\n"
     ]
    }
   ],
   "source": [
    "leverage_demo.get_price()\n",
    "print(leverage_demo.price)"
   ]
  },
  {
   "cell_type": "markdown",
   "metadata": {},
   "source": [
    "> get_price() 默认通过币安的 lastPrice 取得价格，实际应用时应通过交易所 order book 取得，且始终取对价，即卖出取买一价，买入取卖一价"
   ]
  },
  {
   "cell_type": "markdown",
   "metadata": {},
   "source": [
    "客户存入的资金作为保证金，可从平台借贷资产获得更多可交易资产，加倍交易，可获得的最高倍数为杠杆倍数 **max_lever**"
   ]
  },
  {
   "cell_type": "code",
   "execution_count": 8,
   "metadata": {},
   "outputs": [
    {
     "name": "stdout",
     "output_type": "stream",
     "text": [
      "3 倍\n"
     ]
    }
   ],
   "source": [
    "print(leverage_demo.max_lever, '倍')"
   ]
  },
  {
   "cell_type": "markdown",
   "metadata": {},
   "source": [
    "亦即存入一块钱作为保证金可以借到两块钱，一块钱可以当成三块钱用\n",
    "客户存入的两种资产均可作为保证金，其价值由当前价格互相计算，如上存入 0.5 BTC 与 1000 USDT 的情况，按照当前价格，总资产则相当于："
   ]
  },
  {
   "cell_type": "markdown",
   "metadata": {},
   "source": [
    "以 BTC 计价："
   ]
  },
  {
   "cell_type": "code",
   "execution_count": 9,
   "metadata": {},
   "outputs": [
    {
     "data": {
      "text/plain": [
       "0.6230383079771887"
      ]
     },
     "execution_count": 9,
     "metadata": {},
     "output_type": "execute_result"
    }
   ],
   "source": [
    "leverage_demo.total_asset_1 + leverage_demo.total_asset_2 / leverage_demo.price"
   ]
  },
  {
   "cell_type": "markdown",
   "metadata": {},
   "source": [
    "或以 USDT 计价："
   ]
  },
  {
   "cell_type": "code",
   "execution_count": 10,
   "metadata": {},
   "outputs": [
    {
     "data": {
      "text/plain": [
       "5063.775"
      ]
     },
     "execution_count": 10,
     "metadata": {},
     "output_type": "execute_result"
    }
   ],
   "source": [
    "leverage_demo.total_asset_1 * leverage_demo.price + leverage_demo.total_asset_2"
   ]
  },
  {
   "cell_type": "markdown",
   "metadata": {},
   "source": [
    "据此可以计算 **calculate_cap** 可借的资产量 **borrow_available** ："
   ]
  },
  {
   "cell_type": "code",
   "execution_count": 11,
   "metadata": {},
   "outputs": [
    {
     "name": "stdout",
     "output_type": "stream",
     "text": [
      "1.2460766159543775 BTC 或者 10127.55 USDT\n"
     ]
    }
   ],
   "source": [
    "leverage_demo.calculte_cap()\n",
    "print(leverage_demo.borrow_available_1, 'BTC', '或者', leverage_demo.borrow_available_2, 'USDT')"
   ]
  },
  {
   "cell_type": "markdown",
   "metadata": {},
   "source": [
    "如果此时看空 BTC，即认为 BTC/USDT 价会走低，则借 BTC 来卖出获得 USDT，等待价格走低再以 USDT 买回 BTC 归还，赚取差价\n",
    "假设借 1 个BTC，利用 **loan** 函数，计入借贷记录 **all_loan** 并同时开始计算利息 **interest**"
   ]
  },
  {
   "cell_type": "code",
   "execution_count": 12,
   "metadata": {},
   "outputs": [],
   "source": [
    "leverage_demo.loan(1, 0)"
   ]
  },
  {
   "cell_type": "code",
   "execution_count": 13,
   "metadata": {},
   "outputs": [
    {
     "data": {
      "text/html": [
       "<div>\n",
       "<style scoped>\n",
       "    .dataframe tbody tr th:only-of-type {\n",
       "        vertical-align: middle;\n",
       "    }\n",
       "\n",
       "    .dataframe tbody tr th {\n",
       "        vertical-align: top;\n",
       "    }\n",
       "\n",
       "    .dataframe thead th {\n",
       "        text-align: right;\n",
       "    }\n",
       "</style>\n",
       "<table border=\"1\" class=\"dataframe\">\n",
       "  <thead>\n",
       "    <tr style=\"text-align: right;\">\n",
       "      <th></th>\n",
       "      <th>time</th>\n",
       "      <th>loan_1</th>\n",
       "      <th>loan_2</th>\n",
       "      <th>interest_1</th>\n",
       "      <th>interest_2</th>\n",
       "    </tr>\n",
       "  </thead>\n",
       "  <tbody>\n",
       "    <tr>\n",
       "      <th>1</th>\n",
       "      <td>1.523691e+09</td>\n",
       "      <td>1.0</td>\n",
       "      <td>0.0</td>\n",
       "      <td>0.001</td>\n",
       "      <td>0.0</td>\n",
       "    </tr>\n",
       "  </tbody>\n",
       "</table>\n",
       "</div>"
      ],
      "text/plain": [
       "           time  loan_1  loan_2  interest_1  interest_2\n",
       "1  1.523691e+09     1.0     0.0       0.001         0.0"
      ]
     },
     "execution_count": 13,
     "metadata": {},
     "output_type": "execute_result"
    }
   ],
   "source": [
    "leverage_demo.all_loan"
   ]
  },
  {
   "cell_type": "markdown",
   "metadata": {},
   "source": [
    "日利率为 **interest_rate** ，即借出开始每 24 小时计算一次利息 **interest_grow**"
   ]
  },
  {
   "cell_type": "code",
   "execution_count": 14,
   "metadata": {},
   "outputs": [
    {
     "name": "stdout",
     "output_type": "stream",
     "text": [
      "借BTC利率为 0.001 ，借USDT利率为 0.001\n"
     ]
    }
   ],
   "source": [
    "print('借BTC利率为', leverage_demo.interest_rate_1, '，借USDT利率为', leverage_demo.interest_rate_2)"
   ]
  },
  {
   "cell_type": "markdown",
   "metadata": {},
   "source": [
    "此时即可开始监控风险 **risk_monitor**"
   ]
  },
  {
   "cell_type": "code",
   "execution_count": 15,
   "metadata": {},
   "outputs": [
    {
     "data": {
      "text/plain": [
       "Risk Rate            1.623032\n",
       "STOP OUT PRICE   -2506.265664\n",
       "Name: BTC/USDT, dtype: float64"
      ]
     },
     "execution_count": 15,
     "metadata": {},
     "output_type": "execute_result"
    }
   ],
   "source": [
    "leverage_demo.risk_monitor()\n",
    "leverage_demo.risk"
   ]
  },
  {
   "cell_type": "code",
   "execution_count": 16,
   "metadata": {},
   "outputs": [
    {
     "data": {
      "text/html": [
       "<div>\n",
       "<style scoped>\n",
       "    .dataframe tbody tr th:only-of-type {\n",
       "        vertical-align: middle;\n",
       "    }\n",
       "\n",
       "    .dataframe tbody tr th {\n",
       "        vertical-align: top;\n",
       "    }\n",
       "\n",
       "    .dataframe thead th {\n",
       "        text-align: right;\n",
       "    }\n",
       "</style>\n",
       "<table border=\"1\" class=\"dataframe\">\n",
       "  <thead>\n",
       "    <tr style=\"text-align: right;\">\n",
       "      <th></th>\n",
       "      <th>Total</th>\n",
       "      <th>Borrowed</th>\n",
       "      <th>Borrow Available</th>\n",
       "      <th>Withdraw Available</th>\n",
       "    </tr>\n",
       "  </thead>\n",
       "  <tbody>\n",
       "    <tr>\n",
       "      <th>btc</th>\n",
       "      <td>1.5</td>\n",
       "      <td>1</td>\n",
       "      <td>0.244065</td>\n",
       "      <td>-0.376968</td>\n",
       "    </tr>\n",
       "    <tr>\n",
       "      <th>usdt</th>\n",
       "      <td>1000</td>\n",
       "      <td>0</td>\n",
       "      <td>1983.74</td>\n",
       "      <td>-3063.97</td>\n",
       "    </tr>\n",
       "  </tbody>\n",
       "</table>\n",
       "</div>"
      ],
      "text/plain": [
       "     Total Borrowed Borrow Available Withdraw Available\n",
       "btc    1.5        1         0.244065          -0.376968\n",
       "usdt  1000        0          1983.74           -3063.97"
      ]
     },
     "execution_count": 16,
     "metadata": {},
     "output_type": "execute_result"
    }
   ],
   "source": [
    "leverage_demo.monitor"
   ]
  },
  {
   "cell_type": "raw",
   "metadata": {},
   "source": [
    "**risk** 中有风险率 **risk_rate** 与预估爆仓价 **stop_out_price**，其中\n",
    "\n",
    "风险率=[(计价货币总资产-计价货币未还利息) × 最新成交价+(交易货币总资产-交易货币未还利息)]÷(计价货币借入资产 × 最新成交价+交易货币借入资产)\n",
    "\n",
    "预估爆仓价格=(计价货币借入资产 × 爆仓风险率+计价货币未还利息-计价货币总资产)÷(交易货币总资产-交易货币未还利息-交易货币借入资产 × 爆仓风险率)\n",
    "\n",
    "风险率是决定杠杆账户风险的指标，当风险率≥200%时，账户中多余的资产部分可通过资金划转转出；当风险率≤150%，风险率评估为风险，系统会给用户提示风险；当风险率≤110%，系统将强制平仓，并告知用户；三个阈值 **withdraw_risk_rate**，**margin_call_risk_rate**，**stop_out_risk_rate** 均可调"
   ]
  },
  {
   "cell_type": "code",
   "execution_count": 17,
   "metadata": {},
   "outputs": [
    {
     "name": "stdout",
     "output_type": "stream",
     "text": [
      "风险率高于 2 部分资产可取出， 低于 1.5 将收到风险警告， 低于 1.1 将被强制平仓\n"
     ]
    }
   ],
   "source": [
    "print('风险率高于', leverage_demo.withdraw_risk_rate, '部分资产可取出，', \\\n",
    "      '低于', leverage_demo.margin_call_risk_rate, '将收到风险警告，', \\\n",
    "      '低于', leverage_demo.stop_out_risk_rate, '将被强制平仓')"
   ]
  },
  {
   "cell_type": "markdown",
   "metadata": {},
   "source": [
    "实际上风险率为 1 即 100% 时即用户总资产等于借入资产（计入利息后），如此时不平仓，进一步亏损则客户可能无力归还借入资产，设为 110% 则有部分安全垫，此时有平台接管客户账户，可以通过减仓等操作使风险率符合规定或直接完全平仓，应根据市场所受冲击能力决定安全垫即强平风险阈值"
   ]
  },
  {
   "cell_type": "markdown",
   "metadata": {},
   "source": [
    "客户借入资产后开始以转入资产和借入资产即总资产交易 **trade**，如上客户看空 BTC，则卖出，假设卖出 1.4 个 BTC"
   ]
  },
  {
   "cell_type": "code",
   "execution_count": 18,
   "metadata": {},
   "outputs": [
    {
     "data": {
      "text/html": [
       "<div>\n",
       "<style scoped>\n",
       "    .dataframe tbody tr th:only-of-type {\n",
       "        vertical-align: middle;\n",
       "    }\n",
       "\n",
       "    .dataframe tbody tr th {\n",
       "        vertical-align: top;\n",
       "    }\n",
       "\n",
       "    .dataframe thead th {\n",
       "        text-align: right;\n",
       "    }\n",
       "</style>\n",
       "<table border=\"1\" class=\"dataframe\">\n",
       "  <thead>\n",
       "    <tr style=\"text-align: right;\">\n",
       "      <th></th>\n",
       "      <th>time</th>\n",
       "      <th>trade_1</th>\n",
       "      <th>trade_2</th>\n",
       "      <th>fee_1</th>\n",
       "      <th>fee_2</th>\n",
       "    </tr>\n",
       "  </thead>\n",
       "  <tbody>\n",
       "    <tr>\n",
       "      <th>1</th>\n",
       "      <td>1.523691e+09</td>\n",
       "      <td>1.4</td>\n",
       "      <td>0.0</td>\n",
       "      <td>0.0014</td>\n",
       "      <td>0.0</td>\n",
       "    </tr>\n",
       "  </tbody>\n",
       "</table>\n",
       "</div>"
      ],
      "text/plain": [
       "           time  trade_1  trade_2   fee_1  fee_2\n",
       "1  1.523691e+09      1.4      0.0  0.0014    0.0"
      ]
     },
     "execution_count": 18,
     "metadata": {},
     "output_type": "execute_result"
    }
   ],
   "source": [
    "leverage_demo.trade(1.4,0)\n",
    "leverage_demo.all_trade"
   ]
  },
  {
   "cell_type": "markdown",
   "metadata": {},
   "source": [
    "之后客户持有资产与风险率等变化，通过 **risk_monitor** 监控："
   ]
  },
  {
   "cell_type": "code",
   "execution_count": 19,
   "metadata": {},
   "outputs": [
    {
     "data": {
      "text/plain": [
       "Risk Rate             1.621632\n",
       "STOP OUT PRICE    12355.388489\n",
       "Name: BTC/USDT, dtype: float64"
      ]
     },
     "execution_count": 19,
     "metadata": {},
     "output_type": "execute_result"
    }
   ],
   "source": [
    "leverage_demo.risk_monitor()\n",
    "leverage_demo.risk"
   ]
  },
  {
   "cell_type": "code",
   "execution_count": 20,
   "metadata": {},
   "outputs": [
    {
     "data": {
      "text/html": [
       "<div>\n",
       "<style scoped>\n",
       "    .dataframe tbody tr th:only-of-type {\n",
       "        vertical-align: middle;\n",
       "    }\n",
       "\n",
       "    .dataframe tbody tr th {\n",
       "        vertical-align: top;\n",
       "    }\n",
       "\n",
       "    .dataframe thead th {\n",
       "        text-align: right;\n",
       "    }\n",
       "</style>\n",
       "<table border=\"1\" class=\"dataframe\">\n",
       "  <thead>\n",
       "    <tr style=\"text-align: right;\">\n",
       "      <th></th>\n",
       "      <th>Total</th>\n",
       "      <th>Borrowed</th>\n",
       "      <th>Borrow Available</th>\n",
       "      <th>Withdraw Available</th>\n",
       "    </tr>\n",
       "  </thead>\n",
       "  <tbody>\n",
       "    <tr>\n",
       "      <th>btc</th>\n",
       "      <td>0.1</td>\n",
       "      <td>1</td>\n",
       "      <td>0.241265</td>\n",
       "      <td>-0.378368</td>\n",
       "    </tr>\n",
       "    <tr>\n",
       "      <th>usdt</th>\n",
       "      <td>12367.7</td>\n",
       "      <td>0</td>\n",
       "      <td>1960.99</td>\n",
       "      <td>-3075.35</td>\n",
       "    </tr>\n",
       "  </tbody>\n",
       "</table>\n",
       "</div>"
      ],
      "text/plain": [
       "        Total Borrowed Borrow Available Withdraw Available\n",
       "btc       0.1        1         0.241265          -0.378368\n",
       "usdt  12367.7        0          1960.99           -3075.35"
      ]
     },
     "execution_count": 20,
     "metadata": {},
     "output_type": "execute_result"
    }
   ],
   "source": [
    "leverage_demo.monitor"
   ]
  },
  {
   "cell_type": "markdown",
   "metadata": {},
   "source": [
    "可以看到，客户刚交易后总资产量除了手续费外没有变化，所以风险率也几乎没有变化，但由于持有的两种资产量变了，则预估爆仓价跟随变化，此时预估爆仓价为："
   ]
  },
  {
   "cell_type": "code",
   "execution_count": 21,
   "metadata": {},
   "outputs": [
    {
     "data": {
      "text/plain": [
       "12355.38848851149"
      ]
     },
     "execution_count": 21,
     "metadata": {},
     "output_type": "execute_result"
    }
   ],
   "source": [
    "leverage_demo.stop_out_price"
   ]
  },
  {
   "cell_type": "markdown",
   "metadata": {},
   "source": [
    "即 BTC/USDT 价格达到，风险率达到平仓风险率，账户有平台接管，强制减仓或平仓，如上借入 BTC 的情况，则由账户剩余资产买入 BTC 归还，如归还足额 BTC 后还有剩余，则返还到客户余额"
   ]
  }
 ],
 "metadata": {
  "kernelspec": {
   "display_name": "Python 3",
   "language": "python",
   "name": "python3"
  },
  "language_info": {
   "codemirror_mode": {
    "name": "ipython",
    "version": 3
   },
   "file_extension": ".py",
   "mimetype": "text/x-python",
   "name": "python",
   "nbconvert_exporter": "python",
   "pygments_lexer": "ipython3",
   "version": "3.6.4"
  }
 },
 "nbformat": 4,
 "nbformat_minor": 2
}
